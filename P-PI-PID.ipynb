{
 "cells": [
  {
   "cell_type": "code",
   "execution_count": 1,
   "id": "564f2ed4",
   "metadata": {},
   "outputs": [],
   "source": [
    "'''SEBASTIAN ALZATE SIERRA'''\n",
    "import control as co\n",
    "import matplotlib.pyplot as plt\n",
    "from EP import *"
   ]
  },
  {
   "cell_type": "markdown",
   "id": "77a8b10a",
   "metadata": {},
   "source": [
    "# CONTROLADOR P"
   ]
  },
  {
   "cell_type": "code",
   "execution_count": 2,
   "id": "4599502f",
   "metadata": {},
   "outputs": [
    {
     "data": {
      "text/latex": [
       "$$\\frac{0.006679}{s^2 + 0.2547 s + 0.008125}$$"
      ],
      "text/plain": [
       "TransferFunction(array([0.006679]), array([1.      , 0.2547  , 0.008125]))"
      ]
     },
     "execution_count": 2,
     "metadata": {},
     "output_type": "execute_result"
    }
   ],
   "source": [
    "num = 0.006679\n",
    "den = [1, 0.2547, 0.008125]\n",
    "G = co.tf(num, den)\n",
    "G"
   ]
  },
  {
   "cell_type": "code",
   "execution_count": 3,
   "id": "dd4d2ac6",
   "metadata": {},
   "outputs": [],
   "source": [
    "enjambre = Enjambre(\n",
    "               n_particulas = 50,\n",
    "               n_variables  = 1,\n",
    "               limites_inf  = [0.001],\n",
    "               limites_sup  = [1000],\n",
    "               verbose      = False\n",
    "            )"
   ]
  },
  {
   "cell_type": "code",
   "execution_count": 4,
   "id": "fb8a0ef5",
   "metadata": {},
   "outputs": [],
   "source": [
    "def funcion_objetivo(kp):\n",
    "    num = 0.006679\n",
    "    den = [1, 0.2547, 0.008125]\n",
    "    G = co.tf(num, den)\n",
    "    numc = [kp]\n",
    "    denc = [1]\n",
    "    Gc = co.tf(numc, denc)\n",
    "    Gt = co.series(Gc, G)\n",
    "    Gtc = co.feedback(Gt)\n",
    "    data = co.step_info(Gtc)\n",
    "    response = co.step_response(Gtc)\n",
    "    data = co.step_info(Gtc)\n",
    "    parametros = list(data.values())\n",
    "    mp = float(parametros[4])\n",
    "    e_ss = abs(0.8- response.outputs[-1])#ERROR EN ESTADO ESTABLE 0 Y MP REDUCCION 0.2\n",
    "    return (e_ss)"
   ]
  },
  {
   "cell_type": "code",
   "execution_count": 5,
   "id": "fc7d5d7c",
   "metadata": {
    "scrolled": true
   },
   "outputs": [
    {
     "name": "stdout",
     "output_type": "stream",
     "text": [
      "-------------------------------------------\n",
      "Optimización finalizada 2023-06-09 08:49:13\n",
      "-------------------------------------------\n",
      "Duración optimización: 70.65424036979675\n",
      "Número de iteraciones: 49\n",
      "Posición óptima: [4.867931990218315]\n",
      "Valor óptimo: 2.4632798967250125e-07\n",
      "\n"
     ]
    }
   ],
   "source": [
    "enjambre.optimizar(\n",
    "    funcion_objetivo = funcion_objetivo,\n",
    "    optimizacion     = \"minimizar\",\n",
    "    n_iteraciones    = 50,\n",
    "    inercia          = 0.8, #Reduce o aumenta la velocidad de la particula recomendable entre 0.2 y 1.2\n",
    "    reduc_inercia    = True,\n",
    "    inercia_max      = 0.9,\n",
    "    inercia_min      = 0.4,\n",
    "    peso_cognitivo   = 1, #Aporta componente estocastica para escapar de minimos locales\n",
    "    peso_social      = 2,\n",
    "    parada_temprana  = False,\n",
    "    rondas_parada    = 5,\n",
    "    tolerancia_parada = 10**-3,\n",
    "    verbose          = False\n",
    ")"
   ]
  },
  {
   "cell_type": "code",
   "execution_count": 6,
   "id": "a964825e",
   "metadata": {},
   "outputs": [
    {
     "data": {
      "text/latex": [
       "$$\\frac{0.03251}{s^2 + 0.2547 s + 0.04064}$$"
      ],
      "text/plain": [
       "TransferFunction(array([0.03251292]), array([1.        , 0.2547    , 0.04063792]))"
      ]
     },
     "execution_count": 6,
     "metadata": {},
     "output_type": "execute_result"
    }
   ],
   "source": [
    "kp= 4.867931990218315\n",
    "numc = [kp]\n",
    "denc = [1]\n",
    "Gc = co.tf(numc, denc) #FdT CONTROLADOR\n",
    "Gt=co.series(Gc,G)\n",
    "Gtc = co.feedback(Gt)\n",
    "Gtc"
   ]
  },
  {
   "cell_type": "code",
   "execution_count": 7,
   "id": "b56cb8f3",
   "metadata": {},
   "outputs": [
    {
     "name": "stdout",
     "output_type": "stream",
     "text": [
      "Informacion de Funcion de transferencia lazo abierto: \n",
      " {'RiseTime': 59.68024589558046, 'SettlingTime': 109.83704829718532, 'SettlingMin': 0.7399180978670309, 'SettlingMax': 0.8220307692307691, 'Overshoot': 0, 'Undershoot': 0, 'Peak': 0.8210379164197981, 'PeakTime': 184.75480378312676, 'SteadyStateValue': 0.8220307692307691}\n"
     ]
    }
   ],
   "source": [
    "data_la = co.step_info(G)\n",
    "print(f'Informacion de Funcion de transferencia lazo abierto: \\n {data_la}')"
   ]
  },
  {
   "cell_type": "code",
   "execution_count": 8,
   "id": "c2f8cc64",
   "metadata": {},
   "outputs": [
    {
     "data": {
      "image/png": "[encoded data removed]",
      "text/plain": [
       "<Figure size 432x288 with 1 Axes>"
      ]
     },
     "metadata": {
      "needs_background": "light"
     },
     "output_type": "display_data"
    }
   ],
   "source": [
    "response = co.step_response(G)\n",
    "plt.plot(response.time, response.outputs, response.time, response.inputs, linewidth = 2)\n",
    "plt.title('Funcion de transferencia lazo abierto')\n",
    "plt.legend(['output', 'input'])\n",
    "plt.xlabel('Time')\n",
    "plt.ylabel('Variable')\n",
    "plt.grid()\n",
    "plt.show()"
   ]
  },
  {
   "cell_type": "markdown",
   "id": "e6291f12",
   "metadata": {},
   "source": [
    "# CONTROLADOR PI\n"
   ]
  },
  {
   "cell_type": "code",
   "execution_count": 50,
   "id": "4b62abd1",
   "metadata": {},
   "outputs": [
    {
     "data": {
      "text/latex": [
       "$$\\frac{0.9089}{52.33 s + 1}$$"
      ],
      "text/plain": [
       "TransferFunction(array([0.90888]), array([52.32874,  1.     ]))"
      ]
     },
     "execution_count": 50,
     "metadata": {},
     "output_type": "execute_result"
    }
   ],
   "source": [
    "num = 0.90888\n",
    "den = [52.32874, 1]\n",
    "G = co.tf(num, den)\n",
    "G"
   ]
  },
  {
   "cell_type": "code",
   "execution_count": 51,
   "id": "1036f556",
   "metadata": {},
   "outputs": [
    {
     "name": "stdout",
     "output_type": "stream",
     "text": [
      "Informacion de Funcion de transferencia lazo abierto: \n",
      " {'RiseTime': 113.18886898284843, 'SettlingTime': 208.12146877491486, 'SettlingMin': 0.8179920000000004, 'SettlingMax': 0.90888, 'Overshoot': 0, 'Undershoot': 0, 'Peak': 0.9079711200000006, 'PeakTime': 361.4741299774837, 'SteadyStateValue': 0.90888}\n"
     ]
    }
   ],
   "source": [
    "data = co.step_info(G)\n",
    "print(f'Informacion de Funcion de transferencia lazo abierto: \\n {data}')"
   ]
  },
  {
   "cell_type": "code",
   "execution_count": 10,
   "id": "b3edd500",
   "metadata": {},
   "outputs": [],
   "source": [
    "def funcion_objetivo(K,Ti):\n",
    "    num = 0.90888\n",
    "    den = [52.32874, 1]\n",
    "    numc = [K*Ti, Ti]\n",
    "    denc = [Ti, 0]\n",
    "    G = co.tf(num, den) #FdT\n",
    "    Gc = co.tf(numc, denc) #CONTROLADOR\n",
    "    Gt = co.series(G, Gc) #FdT SERIE CON CONTROLADOR\n",
    "    Gtc = co.feedback(Gt) #REALIMENTAR SISTEMA\n",
    "    response = co.step_response(Gtc) #RESPUESTA ESCALON SISTEMA\n",
    "    data = co.step_info(Gtc)\n",
    "    parametros = list(data.values())\n",
    "    mp = float(parametros[4])\n",
    "    tss = float(parametros[1])\n",
    "    #e= sum(abs(response.inputs - response.outputs))\n",
    "    e = abs(tss-90)\n",
    "    return e"
   ]
  },
  {
   "cell_type": "code",
   "execution_count": 52,
   "id": "81d1931c",
   "metadata": {},
   "outputs": [],
   "source": [
    "enjambre = Enjambre(\n",
    "               n_particulas = 50,\n",
    "               n_variables  = 2,\n",
    "               limites_inf  = [0, 0.0001],\n",
    "               limites_sup  = [1000, 5],\n",
    "               verbose      = False\n",
    "            )"
   ]
  },
  {
   "cell_type": "code",
   "execution_count": 53,
   "id": "0c2f689b",
   "metadata": {},
   "outputs": [
    {
     "name": "stdout",
     "output_type": "stream",
     "text": [
      "-------------------------------------------\n",
      "Optimización finalizada 2023-06-07 16:47:06\n",
      "-------------------------------------------\n",
      "Duración optimización: 49.02535104751587\n",
      "Número de iteraciones: 49\n",
      "Posición óptima: [262.47527352069653 0.03919701910709479]\n",
      "Valor óptimo: 5.496491072287668e-07\n",
      "\n"
     ]
    }
   ],
   "source": [
    "enjambre.optimizar(\n",
    "    funcion_objetivo = funcion_objetivo,\n",
    "    optimizacion     = \"minimizar\",\n",
    "    n_iteraciones    = 50,\n",
    "    inercia          = 0.8, #Reduce o aumenta la velocidad de la particula recomendable entre 0.2 y 1.2\n",
    "    reduc_inercia    = True,\n",
    "    inercia_max      = 0.9,\n",
    "    inercia_min      = 0.4,\n",
    "    peso_cognitivo   = 1, #Aporta componente estocastica para escapar de minimos locales\n",
    "    peso_social      = 2,\n",
    "    parada_temprana  = False,\n",
    "    rondas_parada    = 5,\n",
    "    tolerancia_parada = 10**-3,\n",
    "    verbose          = False\n",
    ")"
   ]
  },
  {
   "cell_type": "code",
   "execution_count": 55,
   "id": "cd30751d",
   "metadata": {},
   "outputs": [
    {
     "name": "stdout",
     "output_type": "stream",
     "text": [
      "Informacion de Funcion de transferencia realimentada con controlador: \n",
      " {'RiseTime': 0.48813589133510904, 'SettlingTime': 0.9000005496491073, 'SettlingMin': 0.9037082573334498, 'SettlingMax': 1.0, 'Overshoot': 0, 'Undershoot': 0, 'Peak': 0.995672042827078, 'PeakTime': 1.5101704138179937, 'SteadyStateValue': 1.0}\n"
     ]
    }
   ],
   "source": [
    "kp=262.47527352069653 \n",
    "ti=0.03919701910709479\n",
    "numc = [kp*ti, ti]\n",
    "denc = [ti, 0]\n",
    "Gc = co.tf(numc, denc)\n",
    "Gt = co.series(G, Gc) \n",
    "Gtc = co.feedback(Gt) #Controlador realimentado\n",
    "data3 = co.step_info(Gtc) #Informacion Controlador realimentado\n",
    "print(f'Informacion de Funcion de transferencia realimentada con controlador: \\n {data3}')"
   ]
  },
  {
   "cell_type": "code",
   "execution_count": 56,
   "id": "18438e70",
   "metadata": {},
   "outputs": [
    {
     "data": {
      "image/png": "[encoded data removed]",
      "text/plain": [
       "<Figure size 432x288 with 1 Axes>"
      ]
     },
     "metadata": {
      "needs_background": "light"
     },
     "output_type": "display_data"
    }
   ],
   "source": [
    "response_controlador = co.step_response(Gtc) #Step Controlador\n",
    "\n",
    "plt.plot(response_controlador.time, response_controlador.outputs, \n",
    "    response_controlador.time, response_controlador.inputs, linewidth = 2)\n",
    "plt.title('Funcion de transferencia realimentada con controlador')\n",
    "plt.xlabel('Time')\n",
    "plt.ylabel('Variable')\n",
    "plt.legend(['Output', 'Input'])\n",
    "plt.grid()\n"
   ]
  },
  {
   "cell_type": "markdown",
   "id": "05d55cdc",
   "metadata": {},
   "source": [
    "# CONTROLADOR PID"
   ]
  },
  {
   "cell_type": "code",
   "execution_count": 58,
   "id": "09c4e4b8",
   "metadata": {},
   "outputs": [
    {
     "data": {
      "text/latex": [
       "$$\\frac{0.006679}{s^2 + 0.2547 s + 0.008125}$$"
      ],
      "text/plain": [
       "TransferFunction(array([0.006679]), array([1.      , 0.2547  , 0.008125]))"
      ]
     },
     "execution_count": 58,
     "metadata": {},
     "output_type": "execute_result"
    }
   ],
   "source": [
    "num = 0.006679\n",
    "den = [1, 0.2547, 0.008125]\n",
    "G = co.tf(num, den)\n",
    "G"
   ]
  },
  {
   "cell_type": "code",
   "execution_count": 59,
   "id": "c869a4dc",
   "metadata": {},
   "outputs": [
    {
     "name": "stdout",
     "output_type": "stream",
     "text": [
      "Informacion de Funcion de transferencia lazo abierto: \n",
      " {'RiseTime': 59.68024589558046, 'SettlingTime': 109.83704829718532, 'SettlingMin': 0.7399180978670309, 'SettlingMax': 0.8220307692307691, 'Overshoot': 0, 'Undershoot': 0, 'Peak': 0.8210379164197981, 'PeakTime': 184.75480378312676, 'SteadyStateValue': 0.8220307692307691}\n"
     ]
    }
   ],
   "source": [
    "data_la = co.step_info(G)\n",
    "print(f'Informacion de Funcion de transferencia lazo abierto: \\n {data_la}')\n",
    "parametros=list(data_la)"
   ]
  },
  {
   "cell_type": "code",
   "execution_count": 60,
   "id": "a5815ec7",
   "metadata": {},
   "outputs": [],
   "source": [
    "def funcion_objetivo(kp, ki, kd):\n",
    "    num = 0.006679\n",
    "    den = [1, 0.2547, 0.008125]\n",
    "    G = co.tf(num, den)\n",
    "    numc = [kd,  kp, ki]\n",
    "    denc = [1, 0]\n",
    "    Gc = co.tf(numc, denc)\n",
    "    Gt = co.series(Gc, G)\n",
    "    Gtc = co.feedback(Gt)\n",
    "    data = co.step_info(Gtc)\n",
    "    parametros = list(data.values())\n",
    "    tss = float(parametros[1])\n",
    "    mp = float(parametros[4])\n",
    "    response = co.step_response(Gtc)\n",
    "    #e_abs = sum(abs(response.inputs - response.outputs))\n",
    "    e_ss = abs(1 - response.outputs[-1]) #Error estado estable\n",
    "    e = abs(90 - tss) + abs(1.1 - mp) + e_ss #MP 10% TSS REDUC 10%\n",
    "    return e"
   ]
  },
  {
   "cell_type": "code",
   "execution_count": 61,
   "id": "9ffc66da",
   "metadata": {},
   "outputs": [],
   "source": [
    "enjambre = Enjambre(\n",
    "               n_particulas = 100,\n",
    "               n_variables  = 3,\n",
    "               limites_inf  = [0.001, 0.01, 0.001],\n",
    "               limites_sup  = [10, 0.8, 0.8],\n",
    "               verbose      = False\n",
    "            )"
   ]
  },
  {
   "cell_type": "code",
   "execution_count": 62,
   "id": "63a03542",
   "metadata": {},
   "outputs": [
    {
     "name": "stdout",
     "output_type": "stream",
     "text": [
      "-------------------------------------------\n",
      "Optimización finalizada 2023-06-07 16:52:23\n",
      "-------------------------------------------\n",
      "Duración optimización: 160.24836564064026\n",
      "Número de iteraciones: 49\n",
      "Posición óptima: [5.249971318219572 0.10860129539639368 0.001]\n",
      "Valor óptimo: 0.0509755202027562\n",
      "\n"
     ]
    }
   ],
   "source": [
    "enjambre.optimizar(\n",
    "    funcion_objetivo = funcion_objetivo,\n",
    "    optimizacion     = \"minimizar\",\n",
    "    n_iteraciones    = 50,\n",
    "    inercia          = 0.8, #Reduce o aumenta la velocidad de la particula recomendable entre 0.2 y 1.2\n",
    "    reduc_inercia    = True,\n",
    "    inercia_max      = 0.9,\n",
    "    inercia_min      = 0.4,\n",
    "    peso_cognitivo   = 1, #Aporta componente estocastica para escapar de minimos locales\n",
    "    peso_social      = 2,\n",
    "    parada_temprana  = False,\n",
    "    rondas_parada    = 5,\n",
    "    tolerancia_parada = 10**-3,\n",
    "    verbose          = False\n",
    ")"
   ]
  },
  {
   "cell_type": "code",
   "execution_count": 63,
   "id": "7e9b5599",
   "metadata": {},
   "outputs": [
    {
     "name": "stdout",
     "output_type": "stream",
     "text": [
      "Informacion de Funcion de transferencia controlador: \n",
      " {'RiseTime': 10.51708157978984, 'SettlingTime': 89.97947573820196, 'SettlingMin': 0.9152350909810457, 'SettlingMax': 1.0113034436266204, 'Overshoot': 1.130344362662039, 'Undershoot': 0, 'Peak': 1.0113034436266204, 'PeakTime': 19.86559853960303, 'SteadyStateValue': 1.0}\n"
     ]
    }
   ],
   "source": [
    "kp = 5.249971318219572 \n",
    "ti= 0.10860129539639368 \n",
    "td= 0.001\n",
    "numc = [td,  kp, ti]\n",
    "denc = [1, 0]\n",
    "Gc = co.tf(numc, denc)\n",
    "Gt = co.series(Gc, G)\n",
    "Gtc = co.feedback(Gt)\n",
    "data_controlador = co.step_info(Gtc)\n",
    "print(f'Informacion de Funcion de transferencia controlador: \\n {data_controlador}')"
   ]
  },
  {
   "cell_type": "code",
   "execution_count": 64,
   "id": "2db068f5",
   "metadata": {},
   "outputs": [
    {
     "data": {
      "image/png": "[encoded data removed]",
      "text/plain": [
       "<Figure size 432x288 with 1 Axes>"
      ]
     },
     "metadata": {
      "needs_background": "light"
     },
     "output_type": "display_data"
    }
   ],
   "source": [
    "response_controlador = co.step_response(Gtc)\n",
    "plt.plot(response_controlador.time, response_controlador.outputs, \n",
    "response_controlador.time, response_controlador.inputs, linewidth = 2)\n",
    "plt.title('Funcion de transferencia realimentada con controlador')\n",
    "plt.xlabel('Time')\n",
    "plt.ylabel('Variable')\n",
    "plt.legend(['Output', 'Input'])\n",
    "plt.grid()\n",
    "plt.show()"
   ]
  },
  {
   "cell_type": "code",
   "execution_count": null,
   "id": "369b8326",
   "metadata": {},
   "outputs": [],
   "source": []
  }
 ],
 "metadata": {
  "kernelspec": {
   "display_name": "Python 3 (ipykernel)",
   "language": "python",
   "name": "python3"
  },
  "language_info": {
   "codemirror_mode": {
    "name": "ipython",
    "version": 3
   },
   "file_extension": ".py",
   "mimetype": "text/x-python",
   "name": "python",
   "nbconvert_exporter": "python",
   "pygments_lexer": "ipython3",
   "version": "3.9.7"
  }
 },
 "nbformat": 4,
 "nbformat_minor": 5
}
